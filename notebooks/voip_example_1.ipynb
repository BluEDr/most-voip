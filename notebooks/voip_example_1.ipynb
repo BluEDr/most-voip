{
 "metadata": {
  "name": "voip_example_1"
 },
 "nbformat": 3,
 "nbformat_minor": 0,
 "worksheets": [
  {
   "cells": [
    {
     "cell_type": "heading",
     "level": 1,
     "metadata": {},
     "source": [
      "Most Voip Library"
     ]
    },
    {
     "cell_type": "heading",
     "level": 2,
     "metadata": {},
     "source": [
      "Introduction"
     ]
    },
    {
     "cell_type": "raw",
     "metadata": {},
     "source": [
      "This document introduces a new and lightweight library for handling VOIP sessions."
     ]
    },
    {
     "cell_type": "heading",
     "level": 2,
     "metadata": {},
     "source": [
      "Example 1: Making a Call"
     ]
    },
    {
     "cell_type": "markdown",
     "metadata": {},
     "source": [
      "This first example shows how to make a call to an arbitry destination using the Voip Library. To make a call, you have to perform the following 3 steps, each of them explained in the next sections.\n",
      "\n",
      "1. Initialize the Voip Library \n",
      "2. Register an account on a remote Sip Server\n",
      "3. Make a call to a remote destination\n",
      "4. Hungup the call\n",
      "\n",
      "Note that this example, to work, requires a Sip Server (e.g Asterisk) installed and running on a reachable PC"
     ]
    },
    {
     "cell_type": "heading",
     "level": 3,
     "metadata": {},
     "source": [
      "Step 1: Initialize the Library"
     ]
    },
    {
     "cell_type": "raw",
     "metadata": {},
     "source": [
      "First of all, you have to import and instance the class *VoipLib*"
     ]
    },
    {
     "cell_type": "code",
     "collapsed": false,
     "input": [
      "# add the most.voip library root dir to the current python path...\n",
      "import sys\n",
      "sys.path.append(\"../src/\")"
     ],
     "language": "python",
     "metadata": {},
     "outputs": [],
     "prompt_number": 12
    },
    {
     "cell_type": "code",
     "collapsed": false,
     "input": [
      "# import the Voip Library\n",
      "from most.voip.api import VoipLib\n",
      "# instanziate the lib\n",
      "my_voip = VoipLib()"
     ],
     "language": "python",
     "metadata": {},
     "outputs": [],
     "prompt_number": 9
    },
    {
     "cell_type": "markdown",
     "metadata": {},
     "source": [
      "Now, you have to:\n",
      "\n",
      "* build a dictionary containing all parameters needed for the Lib initialization \n",
      "* define a method (named as you want, but containing 2 arguments, the first one reporting the current state of the Voip Library , the second one a dictionary containing several informations related to the current state) that will be called by the library when a new relevant voip event occurred.\n",
      "* call the *initialize* method passing the 2 parameters defined above"
     ]
    },
    {
     "cell_type": "code",
     "collapsed": false,
     "input": [
      "\n",
      "# build a dictionary containing all parameters needed for the Lib initialization\n",
      "\n",
      "voip_params = {u'username': u'stefano',  \n",
      "               u'sip_server': u'156.148.33.223' ,\n",
      "               u'sip_user': u'ste', \n",
      "               u'sip_pwd': u'ste', \n",
      "               u'transport' :u'udp',\n",
      "               u'log_level' : 1,\n",
      "               u'debug' : False }\n",
      "\n",
      "# define a method used for receive event notifications from the lib:\n",
      "\n",
      "def notify_events(voip_state, params):\n",
      "    print \"Received state:%s -> Params: %s\" % (voip_state, params)\n",
      "    \n",
      "# initialize the lib passing the dictionary and the callback method defined above:\n",
      "\n",
      "my_voip.initialize(voip_params, notify_events)\n",
      "\n",
      "\n"
     ],
     "language": "python",
     "metadata": {},
     "outputs": [
      {
       "output_type": "stream",
       "stream": "stdout",
       "text": [
        "Received state:VOIP_STATE__INITIALIZED -> Params: {'sip_server': '156.148.33.223', 'success': True}\n"
       ]
      },
      {
       "output_type": "pyout",
       "prompt_number": 13,
       "text": [
        "True"
       ]
      }
     ],
     "prompt_number": 13
    },
    {
     "cell_type": "markdown",
     "metadata": {},
     "source": [
      "The example above assumes that you have a Sip Server (e.g, Asterisk) running on a pc reachable at the address 156.148.33.223.\n",
      "\n",
      "Note that, so far, no connection to the Sip Server has been established yet. The **initialize** method returns a *True* value if the initialization\n",
      "completes without errors, *False* otherwise. \n",
      "\n",
      "Finally, note that at the end of the inititialization process the method **notify_events** is called, containing all informations\n",
      "related to the outcome of the initialization process."
     ]
    },
    {
     "cell_type": "heading",
     "level": 3,
     "metadata": {},
     "source": [
      "Step 2: Registering the account on the Sip Server"
     ]
    },
    {
     "cell_type": "markdown",
     "metadata": {},
     "source": [
      "Now, you are ready to register the user to the sip server (in this example, we are registering a user called *ste* with the password *ste*. We assume that the Sip Server knows this user and is able to accept the registration request from it)."
     ]
    },
    {
     "cell_type": "code",
     "collapsed": false,
     "input": [
      "my_voip.register_account()"
     ],
     "language": "python",
     "metadata": {},
     "outputs": [
      {
       "output_type": "stream",
       "stream": "stdout",
       "text": [
        "Received state:VOIP_STATE__REGISTERING -> Params: {'account_info': u'ste', 'Success': True}\n"
       ]
      },
      {
       "output_type": "pyout",
       "prompt_number": 14,
       "text": [
        "True"
       ]
      }
     ],
     "prompt_number": 14
    },
    {
     "cell_type": "markdown",
     "metadata": {},
     "source": [
      "Also in this case, the library calls the method *notify_events* to notify the outcome of the registration process. In particular, this method is called as soon as a registration request is sent (with a VOIP_STATE__REGISTERING state) and later, as soon as the registration is accepted by the remote Sip server (with a VOIP_STATE__REGISTERED state) or refused (with a VOIP_STATE__REGISTRATION_FAILED state)"
     ]
    },
    {
     "cell_type": "heading",
     "level": 3,
     "metadata": {},
     "source": [
      "Step 3: Making a call to a arbitrary extension"
     ]
    },
    {
     "cell_type": "markdown",
     "metadata": {},
     "source": [
      " In case of successfull registration, you can dial an extension (or call an arbitrary Sip User) in the following way:"
     ]
    },
    {
     "cell_type": "code",
     "collapsed": false,
     "input": [
      "my_extension = \"1234\"\n",
      "my_voip.make_call(my_extension)\n",
      "\n",
      "import time\n",
      "# wait until the call is active\n",
      "while(True):\n",
      "    time.sleep(1)\n",
      "\n"
     ],
     "language": "python",
     "metadata": {},
     "outputs": [],
     "prompt_number": "*"
    },
    {
     "cell_type": "markdown",
     "metadata": {},
     "source": [
      "Note that the notify_events method is called when the call is established (with the state VOIP_STATE__CALL_ACTIVE)"
     ]
    },
    {
     "cell_type": "heading",
     "level": 3,
     "metadata": {},
     "source": [
      "Step 4: Hungup the active call"
     ]
    },
    {
     "cell_type": "markdown",
     "metadata": {},
     "source": [
      "To hungup the call you have just to call the method *hungup_call*:"
     ]
    },
    {
     "cell_type": "code",
     "collapsed": false,
     "input": [
      "# ends the current call\n",
      "my_voip.hungup_call()"
     ],
     "language": "python",
     "metadata": {},
     "outputs": [],
     "prompt_number": "*"
    },
    {
     "cell_type": "markdown",
     "metadata": {},
     "source": [
      "Note that,  when the user hungs up the call , the callback method is called again with the state VOIP_STATE__CALL_HUNGUP)\n"
     ]
    },
    {
     "cell_type": "code",
     "collapsed": false,
     "input": [],
     "language": "python",
     "metadata": {},
     "outputs": []
    }
   ],
   "metadata": {}
  }
 ]
}
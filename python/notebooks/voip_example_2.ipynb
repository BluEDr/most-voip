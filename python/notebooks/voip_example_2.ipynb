{
 "metadata": {
  "name": ""
 },
 "nbformat": 3,
 "nbformat_minor": 0,
 "worksheets": [
  {
   "cells": [
    {
     "cell_type": "heading",
     "level": 1,
     "metadata": {},
     "source": [
      "Most Voip Library"
     ]
    },
    {
     "cell_type": "heading",
     "level": 2,
     "metadata": {},
     "source": [
      "Introduction"
     ]
    },
    {
     "cell_type": "markdown",
     "metadata": {},
     "source": [
      "This second example of the Most Voip Library shows how to listen for and to answer to incoming calls.\n",
      "\n",
      "Note that this example, to work, requires a Sip Server (e.g Asterisk) installed and running on a reachable PC.\n",
      "For getting instructions about the Asterisk configuration, click [here](asterisk_configuration.ipynb)"
     ]
    },
    {
     "cell_type": "heading",
     "level": 2,
     "metadata": {},
     "source": [
      "Example 2: Answering a Call"
     ]
    },
    {
     "cell_type": "markdown",
     "metadata": {},
     "source": [
      "This second example shows how to answer an incoming call using the Voip Library. It assumes that you have the Asterisk Sip Server installed on a reacheable machine.\n",
      "First of all, you have to perform the 3 following steps:\n",
      "\n",
      "1. Import and instance the Most Voip Library\n",
      "2. Implement the  **notify_events(voip_state, params)** method where to receive all notifications\n",
      "3. Initialize the Voip Library and Register the account\n",
      "4. Write a loop for waiting for incoming calls\n",
      "5. Open a CLI asterisk console and type the command for making a call to the user registered at the previous step\n"
     ]
    },
    {
     "cell_type": "heading",
     "level": 3,
     "metadata": {},
     "source": [
      "Step 1: Import and instance the voip lib"
     ]
    },
    {
     "cell_type": "markdown",
     "metadata": {},
     "source": [
      "These steps have been already explained in the previous example. However note that,  this time, we also import the **VoipState** class, that will be used in the callback method **notify_events** for detecting the type of the incoming events."
     ]
    },
    {
     "cell_type": "code",
     "collapsed": false,
     "input": [
      "# append the most voip library location to the pythonpath\n",
      "import sys\n",
      "sys.path.append(\"../src/\")\n",
      "\n",
      "\n",
      "# import the Voip Library\n",
      "from most.voip.api import VoipLib\n",
      "from most.voip.states import VoipState\n",
      "\n",
      "# instanziate the lib\n",
      "my_voip = VoipLib()\n",
      "\n",
      "# build a dictionary containing all parameters needed for the Lib initialization\n",
      "\n",
      "voip_params = {u'username': u'stefano',  \n",
      "               u'sip_server': u'156.148.33.223' ,\n",
      "               u'sip_user': u'ste', \n",
      "               u'sip_pwd': u'ste', \n",
      "               u'transport' :u'udp',\n",
      "               u'log_level' : 1,\n",
      "               u'debug' : False }"
     ],
     "language": "python",
     "metadata": {},
     "outputs": [
      {
       "output_type": "stream",
       "stream": "stdout",
       "text": [
        "CALLED INIT!!!\n"
       ]
      }
     ],
     "prompt_number": 1
    },
    {
     "cell_type": "heading",
     "level": 3,
     "metadata": {},
     "source": [
      "Step 2: Implement the CallBack method where to receive notifications about incoming calls and other relevant events"
     ]
    },
    {
     "cell_type": "code",
     "collapsed": false,
     "input": [
      "import time\n",
      "end_of_call = False # used as exit condition from the while loop at the end of this example\n",
      "\n",
      "def notify_events(voip_state, params):\n",
      "        print \"Received state:%s -> Params: %s\" % (voip_state, params)\n",
      "        if (voip_state==VoipState.Registered):\n",
      "            print \"User registered: Ready to accept calls!\"\n",
      "        \n",
      "        if (voip_state==VoipState.Incoming):\n",
      "            print \"INCOMING CALL From %s\" % params[\"from\"]\n",
      "            time.sleep(2)\n",
      "            print \"Answering!\"\n",
      "            my_voip.answer_call()\n",
      "            \n",
      "        elif(voip_state==VoipState.Calling):\n",
      "            dur = 4\n",
      "            print \"Waiting %s seconds before hanging up...\"  % dur\n",
      "            time.sleep(dur)\n",
      "            my_voip.hangup_call()\n",
      "            \n",
      "        elif (voip_state in [VoipState.RemoteDisconnectionHangup, VoipState.RemoteHangup, VoipState.Hangup]):\n",
      "            print \"End of call. Destroying lib...\"\n",
      "            my_voip.destroy_lib()\n",
      "            \n",
      "            \n",
      "        elif (voip_state==VoipState.DeinitializeDone):\n",
      "            print \"Example Done.\"\n",
      "            end_of_call = True"
     ],
     "language": "python",
     "metadata": {},
     "outputs": [],
     "prompt_number": 2
    },
    {
     "cell_type": "markdown",
     "metadata": {},
     "source": [
      "The method above detects the **VoipState.INCOMING** state, that is triggered when a remote user makes a call to the registered account (the user 'ste' in this example). In this example, we answer the incoming call and, in this way,  the call is enstablished between the 2 users and the state **VoipState.Calling** is triggered. At this point, we decide to wait 4 seconds before hanging up the call, by calling the **hungup_call** method.  This method will close the current active call and will trigger the **VoipState.Hungup** method (or one of the states **VoipState.RemoteDisconnectionHangup** **VoipState.RemoteHangup** if the remote user hangup the call before us), so we destroy the voip lib and wait for the **VoipState.DeinitializeDone** event to set the flag **end_of_call** equals to True to notify the end of this exampl outside of this method."
     ]
    },
    {
     "cell_type": "heading",
     "level": 3,
     "metadata": {},
     "source": [
      "Step 3: Initialize the Voip Library and register the account on the Sip Server"
     ]
    },
    {
     "cell_type": "markdown",
     "metadata": {},
     "source": [
      "Now we have to initialize the library (by passing the notification method and the initialization params defined above) and register the account.\n"
     ]
    },
    {
     "cell_type": "code",
     "collapsed": false,
     "input": [
      "# initialize the lib passing the dictionary and the callback method defined above:\n",
      "my_voip.init_lib(voip_params, notify_events)\n",
      "\n",
      "# register the account\n",
      "my_voip.register_account()"
     ],
     "language": "python",
     "metadata": {},
     "outputs": [
      {
       "output_type": "stream",
       "stream": "stderr",
       "text": [
        "\n",
        "Called init_lib method!!!\n",
        "\n"
       ]
      },
      {
       "output_type": "stream",
       "stream": "stderr",
       "text": [
        "DEBUG:Voip:\n",
        "Called init_lib method!!!\n",
        "\n"
       ]
      },
      {
       "output_type": "stream",
       "stream": "stdout",
       "text": [
        "INITIALIZE FROM PRINT\n",
        "Received state:VOIP_STATE__INITIALIZING -> Params: {'params': {u'username': u'stefano', u'log_level': 1, u'sip_pwd': u'ste', u'sip_server': u'156.148.33.223', u'sip_user': u'ste', u'debug': False, u'transport': u'udp'}, 'success': True}\n",
        "Received state:VOIP_STATE__INITIALIZED -> Params: {'sip_server': '156.148.33.223', 'success': True}"
       ]
      },
      {
       "output_type": "stream",
       "stream": "stdout",
       "text": [
        "\n",
        "Received state:VOIP_STATE__REGISTERING -> Params: {'account_info': u'ste', 'Success': True}\n"
       ]
      },
      {
       "output_type": "pyout",
       "prompt_number": 3,
       "text": [
        "True"
       ]
      }
     ],
     "prompt_number": 3
    },
    {
     "cell_type": "heading",
     "level": 3,
     "metadata": {},
     "source": [
      "Step 4: Add  a  'while' loop for waiting for incoming calls"
     ]
    },
    {
     "cell_type": "markdown",
     "metadata": {},
     "source": [
      "Now we are ready to wait for incoming call, so we can add a simple 'while loop' that doen't anything and exit when tha flag 'end_of_call' assumes the **true** value."
     ]
    },
    {
     "cell_type": "code",
     "collapsed": false,
     "input": [
      "while (end_of_call==False):\n",
      "    time.sleep(2)\n"
     ],
     "language": "python",
     "metadata": {},
     "outputs": [
      {
       "output_type": "stream",
       "stream": "stdout",
       "text": [
        "Received state:VOIP_STATE__REGISTERED -> Params: {'account_info': <pjsua.AccountInfo instance at 0x299f5a8>, 'Success': True}\n",
        "User registered: Ready to accept calls!\n",
        "Received state:VOIP_STATE__CALL_INCOMING -> Params: {'from': '\"Anonymous\" <sip:Anonymous@anonymous.invalid>', 'Success': True}"
       ]
      },
      {
       "output_type": "stream",
       "stream": "stdout",
       "text": [
        "\n",
        "INCOMING CALL From \"Anonymous\" <sip:Anonymous@anonymous.invalid>\n",
        "Answering!"
       ]
      },
      {
       "output_type": "stream",
       "stream": "stdout",
       "text": [
        "\n",
        "Received state:VOIP_STATE__CALL_ACTIVE -> Params: {'call_state': 3, 'success': True}\n",
        "Waiting 4 seconds before hanging up...\n",
        "Received state:VOIP_STATE__CALL_HANGUP -> Params: {'call_state': 0, 'success': True}"
       ]
      },
      {
       "output_type": "stream",
       "stream": "stdout",
       "text": [
        "\n",
        "End of call. Destroying lib...\n",
        "Received state:VOIP_STATE__DEINITIALIZING -> Params: {'account_info': u'ste', 'Success': True}\n",
        "[Tue Jun  3 16:49:41 2014] 16:49:41.087   pjsua_call.c !........Failed to create end session message: INVITE session already terminated (PJSIP_ESESSIONTERMINATED) [status=171140]\n"
       ]
      }
     ],
     "prompt_number": "*"
    },
    {
     "cell_type": "heading",
     "level": 3,
     "metadata": {},
     "source": [
      "Step 5: Originate a call from the Sip Server for testing the example"
     ]
    },
    {
     "cell_type": "markdown",
     "metadata": {},
     "source": [
      "Open a CLI asterisk console and type the the following command for making a call to the user registered at the **step 3**:"
     ]
    },
    {
     "cell_type": "markdown",
     "metadata": {},
     "source": [
      "**originate SIP/ste extension**"
     ]
    },
    {
     "cell_type": "markdown",
     "metadata": {},
     "source": [
      "This commands originate a call from the sip server to the user 'ste' registered at the step 3. Obviously, it assumes that you have configured the Asterisk Server so that the user 'ste' is a known sip user. To do it , you have to configure the sip configuration file, called **sip.conf** (in Linux platforms, it is generally located in the folder /etc/asterisk)."
     ]
    },
    {
     "cell_type": "markdown",
     "metadata": {},
     "source": [
      "; user section added at the end odf the configuration file sip.conf\n",
      "\n",
      "[ste]\n",
      "\n",
      "type=friend\n",
      "\n",
      "secret=ste\n",
      "\n",
      "host=dynamic\n",
      "\n",
      "context=local_test\n"
     ]
    },
    {
     "cell_type": "markdown",
     "metadata": {},
     "source": []
    }
   ],
   "metadata": {}
  }
 ]
}